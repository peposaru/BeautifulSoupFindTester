{
 "cells": [
  {
   "cell_type": "code",
   "execution_count": null,
   "id": "f3bf3917-9acf-4884-8055-972dd68508bb",
   "metadata": {},
   "outputs": [],
   "source": [
    "import requests\n",
    "from bs4 import BeautifulSoup\n",
    "\n",
    "def testSearchElements(url, tag, attribute=None, value=None):\n",
    "    \"\"\"\n",
    "    Test search tags, attributes and values with BeautifulSoup more efficiently.\n",
    "    You input a url, and use this program to figure out quickly which tags / attributes / values \n",
    "    give you the results you want.\n",
    "\n",
    "    Args:\n",
    "        url (str): The URL of the webpage to test search / scrape.\n",
    "        tag (str): The HTML tag to search for.\n",
    "        attribute (str): The attribute to search for (optional).\n",
    "        value (str): The value of the attribute (optional).\n",
    "\n",
    "    Returns:\n",
    "        list: A list of text content of matching elements found.\n",
    "    \"\"\"\n",
    "    try:\n",
    "        response = requests.get(url)\n",
    "        response.raise_for_status()  # Raise an exception for HTTP errors\n",
    "        soup = BeautifulSoup(response.content, \"html.parser\")\n",
    "\n",
    "        if attribute and value:\n",
    "            elements = soup.find_all(tag, {attribute: value})\n",
    "        else:\n",
    "            elements = soup.find_all(tag)\n",
    "\n",
    "        element_texts = []\n",
    "        for element in elements:\n",
    "            text = element.get_text(separator=\"\\n\", strip=True)\n",
    "            element_texts.append(text)\n",
    "\n",
    "        return element_texts\n",
    "\n",
    "    except Exception as e:\n",
    "        print(f\"An error occurred: {e}\")\n",
    "        return []\n",
    "\n",
    "if __name__ == \"__main__\":\n",
    "    # Example usage if the script is run directly\n",
    "    url = input('Enter the URL of the webpage: ')\n",
    "    tag = input('Enter the HTML tag you would like to search for: ')\n",
    "    attribute = input('Enter the attribute you would like to search for (or press enter to skip): ')\n",
    "    value = input('Enter the value for the attribute (or press enter to skip): ')\n",
    "\n",
    "    elements = testSearchElements(url, tag, attribute, value)\n",
    "    if elements:\n",
    "        print(\"Elements found:\")\n",
    "        for element in elements:\n",
    "            print(element)\n",
    "    else:\n",
    "        print(\"No elements found.\")\n"
   ]
  }
 ],
 "metadata": {
  "kernelspec": {
   "display_name": "Python 3 (ipykernel)",
   "language": "python",
   "name": "python3"
  },
  "language_info": {
   "codemirror_mode": {
    "name": "ipython",
    "version": 3
   },
   "file_extension": ".py",
   "mimetype": "text/x-python",
   "name": "python",
   "nbconvert_exporter": "python",
   "pygments_lexer": "ipython3",
   "version": "3.12.0"
  }
 },
 "nbformat": 4,
 "nbformat_minor": 5
}
